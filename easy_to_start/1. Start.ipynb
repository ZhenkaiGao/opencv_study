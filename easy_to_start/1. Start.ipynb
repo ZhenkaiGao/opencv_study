{
 "cells": [
  {
   "cell_type": "code",
   "execution_count": 2,
   "id": "35a0e28a",
   "metadata": {},
   "outputs": [],
   "source": [
    "import cv2 as cv\n",
    "panda = cv.imread(\"picture/panda.jpg\")\n",
    "cv.imshow(\"panda\", panda)\n",
    "cv.waitKey()\n",
    "cv.destroyAllWindows()"
   ]
  },
  {
   "cell_type": "code",
   "execution_count": 4,
   "id": "62bf1462",
   "metadata": {},
   "outputs": [
    {
     "data": {
      "text/plain": [
       "True"
      ]
     },
     "execution_count": 4,
     "metadata": {},
     "output_type": "execute_result"
    }
   ],
   "source": [
    "panda = cv.imread(\"picture/panda.jpg\")\n",
    "cv.imwrite(\"picture/panda.png\", panda)"
   ]
  }
 ],
 "metadata": {
  "kernelspec": {
   "display_name": "pytorch_study",
   "language": "python",
   "name": "pytorch_study"
  },
  "language_info": {
   "codemirror_mode": {
    "name": "ipython",
    "version": 3
   },
   "file_extension": ".py",
   "mimetype": "text/x-python",
   "name": "python",
   "nbconvert_exporter": "python",
   "pygments_lexer": "ipython3",
   "version": "3.10.10"
  }
 },
 "nbformat": 4,
 "nbformat_minor": 5
}
