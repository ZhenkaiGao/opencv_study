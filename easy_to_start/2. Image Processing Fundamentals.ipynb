{
 "cells": [
  {
   "cell_type": "code",
   "execution_count": 1,
   "id": "540d5eb7",
   "metadata": {},
   "outputs": [],
   "source": [
    "import cv2 as cv\n",
    "import numpy as np"
   ]
  },
  {
   "cell_type": "markdown",
   "id": "ba856c92",
   "metadata": {},
   "source": [
    "# 1. Pixel processing"
   ]
  },
  {
   "cell_type": "markdown",
   "id": "53cf356a",
   "metadata": {},
   "source": [
    "## 1.1 Binary image, grey scale image"
   ]
  },
  {
   "cell_type": "code",
   "execution_count": 3,
   "id": "78a3e510",
   "metadata": {},
   "outputs": [
    {
     "name": "stdout",
     "output_type": "stream",
     "text": [
      "img_black=\n",
      " [[0 0 0 0 0 0 0 0]\n",
      " [0 0 0 0 0 0 0 0]\n",
      " [0 0 0 0 0 0 0 0]\n",
      " [0 0 0 0 0 0 0 0]\n",
      " [0 0 0 0 0 0 0 0]\n",
      " [0 0 0 0 0 0 0 0]\n",
      " [0 0 0 0 0 0 0 0]\n",
      " [0 0 0 0 0 0 0 0]]\n",
      "img_black[0,3] =  0\n",
      "changed img_black[0,3] =  255\n"
     ]
    }
   ],
   "source": [
    "# Binary image\n",
    "\n",
    "img_black = np.zeros((8,8), dtype=np.uint8)\n",
    "print(\"img_black=\\n\",img_black)\n",
    "cv.imshow(\"one\",img_black)\n",
    "print(\"img_black[0,3] = \",img_black[0,3])\n",
    "\n",
    "img_black[0,3] = 255\n",
    "print(\"changed img_black[0,3] = \",img_black[0,3])\n",
    "\n",
    "cv.imshow(\"two\",img_black)\n",
    "cv.waitKey()\n",
    "cv.destroyAllWindows()"
   ]
  },
  {
   "cell_type": "code",
   "execution_count": 5,
   "id": "dc208ded",
   "metadata": {},
   "outputs": [],
   "source": [
    "# Gray scale image\n",
    "\n",
    "panda = cv.imread(\"picture/panda.jpg\",0) # 0 means gray scale\n",
    "cv.imshow(\"before\", panda)\n",
    "\n",
    "for i in range(10, 100):\n",
    "    for j in range(80, 100):\n",
    "        panda[i, j]=255\n",
    "\n",
    "cv.imshow(\"after\", panda)\n",
    "cv.waitKey()\n",
    "cv.destroyAllWindows()"
   ]
  },
  {
   "cell_type": "markdown",
   "id": "9e92cfd9",
   "metadata": {},
   "source": [
    "## 1.2 Colour images"
   ]
  },
  {
   "cell_type": "code",
   "execution_count": 6,
   "id": "25fb6362",
   "metadata": {},
   "outputs": [
    {
     "name": "stdout",
     "output_type": "stream",
     "text": [
      "blue=\n",
      " [[[255   0   0]\n",
      "  [255   0   0]\n",
      "  [255   0   0]\n",
      "  ...\n",
      "  [255   0   0]\n",
      "  [255   0   0]\n",
      "  [255   0   0]]\n",
      "\n",
      " [[255   0   0]\n",
      "  [255   0   0]\n",
      "  [255   0   0]\n",
      "  ...\n",
      "  [255   0   0]\n",
      "  [255   0   0]\n",
      "  [255   0   0]]\n",
      "\n",
      " [[255   0   0]\n",
      "  [255   0   0]\n",
      "  [255   0   0]\n",
      "  ...\n",
      "  [255   0   0]\n",
      "  [255   0   0]\n",
      "  [255   0   0]]\n",
      "\n",
      " ...\n",
      "\n",
      " [[255   0   0]\n",
      "  [255   0   0]\n",
      "  [255   0   0]\n",
      "  ...\n",
      "  [255   0   0]\n",
      "  [255   0   0]\n",
      "  [255   0   0]]\n",
      "\n",
      " [[255   0   0]\n",
      "  [255   0   0]\n",
      "  [255   0   0]\n",
      "  ...\n",
      "  [255   0   0]\n",
      "  [255   0   0]\n",
      "  [255   0   0]]\n",
      "\n",
      " [[255   0   0]\n",
      "  [255   0   0]\n",
      "  [255   0   0]\n",
      "  ...\n",
      "  [255   0   0]\n",
      "  [255   0   0]\n",
      "  [255   0   0]]]\n",
      "red=\n",
      " [[[  0 255   0]\n",
      "  [  0 255   0]\n",
      "  [  0 255   0]\n",
      "  ...\n",
      "  [  0 255   0]\n",
      "  [  0 255   0]\n",
      "  [  0 255   0]]\n",
      "\n",
      " [[  0 255   0]\n",
      "  [  0 255   0]\n",
      "  [  0 255   0]\n",
      "  ...\n",
      "  [  0 255   0]\n",
      "  [  0 255   0]\n",
      "  [  0 255   0]]\n",
      "\n",
      " [[  0 255   0]\n",
      "  [  0 255   0]\n",
      "  [  0 255   0]\n",
      "  ...\n",
      "  [  0 255   0]\n",
      "  [  0 255   0]\n",
      "  [  0 255   0]]\n",
      "\n",
      " ...\n",
      "\n",
      " [[  0 255   0]\n",
      "  [  0 255   0]\n",
      "  [  0 255   0]\n",
      "  ...\n",
      "  [  0 255   0]\n",
      "  [  0 255   0]\n",
      "  [  0 255   0]]\n",
      "\n",
      " [[  0 255   0]\n",
      "  [  0 255   0]\n",
      "  [  0 255   0]\n",
      "  ...\n",
      "  [  0 255   0]\n",
      "  [  0 255   0]\n",
      "  [  0 255   0]]\n",
      "\n",
      " [[  0 255   0]\n",
      "  [  0 255   0]\n",
      "  [  0 255   0]\n",
      "  ...\n",
      "  [  0 255   0]\n",
      "  [  0 255   0]\n",
      "  [  0 255   0]]]\n",
      "red=\n",
      " [[[  0   0 255]\n",
      "  [  0   0 255]\n",
      "  [  0   0 255]\n",
      "  ...\n",
      "  [  0   0 255]\n",
      "  [  0   0 255]\n",
      "  [  0   0 255]]\n",
      "\n",
      " [[  0   0 255]\n",
      "  [  0   0 255]\n",
      "  [  0   0 255]\n",
      "  ...\n",
      "  [  0   0 255]\n",
      "  [  0   0 255]\n",
      "  [  0   0 255]]\n",
      "\n",
      " [[  0   0 255]\n",
      "  [  0   0 255]\n",
      "  [  0   0 255]\n",
      "  ...\n",
      "  [  0   0 255]\n",
      "  [  0   0 255]\n",
      "  [  0   0 255]]\n",
      "\n",
      " ...\n",
      "\n",
      " [[  0   0 255]\n",
      "  [  0   0 255]\n",
      "  [  0   0 255]\n",
      "  ...\n",
      "  [  0   0 255]\n",
      "  [  0   0 255]\n",
      "  [  0   0 255]]\n",
      "\n",
      " [[  0   0 255]\n",
      "  [  0   0 255]\n",
      "  [  0   0 255]\n",
      "  ...\n",
      "  [  0   0 255]\n",
      "  [  0   0 255]\n",
      "  [  0   0 255]]\n",
      "\n",
      " [[  0   0 255]\n",
      "  [  0   0 255]\n",
      "  [  0   0 255]\n",
      "  ...\n",
      "  [  0   0 255]\n",
      "  [  0   0 255]\n",
      "  [  0   0 255]]]\n"
     ]
    }
   ],
   "source": [
    "# Blue channel\n",
    "blue = np.zeros((300, 300, 3), dtype=np.uint8)\n",
    "blue[:,:,0] = 255\n",
    "print(\"blue=\\n\", blue)\n",
    "cv.imshow(\"blue\", blue)\n",
    "\n",
    "# Green channel\n",
    "green = np.zeros((300, 300, 3), dtype=np.uint8)\n",
    "green[:,:,1] = 255\n",
    "print(\"red=\\n\", green)\n",
    "cv.imshow(\"green\", green)\n",
    "\n",
    "# Red channel\n",
    "red = np.zeros((300, 300, 3), dtype=np.uint8)\n",
    "red[:,:,2] = 255\n",
    "print(\"red=\\n\", red)\n",
    "cv.imshow(\"red\", red)\n",
    "\n",
    "cv.waitKey()\n",
    "cv.destroyAllWindows()"
   ]
  },
  {
   "cell_type": "code",
   "execution_count": 7,
   "id": "74224cee",
   "metadata": {},
   "outputs": [
    {
     "name": "stdout",
     "output_type": "stream",
     "text": [
      "img=\n",
      " [[[255   0   0]\n",
      "  [255   0   0]\n",
      "  [255   0   0]\n",
      "  ...\n",
      "  [  0   0 255]\n",
      "  [  0   0 255]\n",
      "  [  0   0 255]]\n",
      "\n",
      " [[255   0   0]\n",
      "  [255   0   0]\n",
      "  [255   0   0]\n",
      "  ...\n",
      "  [  0   0 255]\n",
      "  [  0   0 255]\n",
      "  [  0   0 255]]\n",
      "\n",
      " [[255   0   0]\n",
      "  [255   0   0]\n",
      "  [255   0   0]\n",
      "  ...\n",
      "  [  0   0 255]\n",
      "  [  0   0 255]\n",
      "  [  0   0 255]]\n",
      "\n",
      " ...\n",
      "\n",
      " [[255   0   0]\n",
      "  [255   0   0]\n",
      "  [255   0   0]\n",
      "  ...\n",
      "  [  0   0 255]\n",
      "  [  0   0 255]\n",
      "  [  0   0 255]]\n",
      "\n",
      " [[255   0   0]\n",
      "  [255   0   0]\n",
      "  [255   0   0]\n",
      "  ...\n",
      "  [  0   0 255]\n",
      "  [  0   0 255]\n",
      "  [  0   0 255]]\n",
      "\n",
      " [[255   0   0]\n",
      "  [255   0   0]\n",
      "  [255   0   0]\n",
      "  ...\n",
      "  [  0   0 255]\n",
      "  [  0   0 255]\n",
      "  [  0   0 255]]]\n"
     ]
    }
   ],
   "source": [
    "img = np.zeros((300, 300, 3), dtype=np.uint8)\n",
    "img[:,0:100,0]=255\n",
    "img[:,100:200,1]=255\n",
    "img[:,200:300,2]=255\n",
    "print(\"img=\\n\",img)\n",
    "cv.imshow(\"img\", img)\n",
    "cv.waitKey()\n",
    "cv.destroyAllWindows()"
   ]
  },
  {
   "cell_type": "code",
   "execution_count": 8,
   "id": "4a2e7dba",
   "metadata": {},
   "outputs": [
    {
     "name": "stdout",
     "output_type": "stream",
     "text": [
      "img[0,3]= [0 0 0]\n",
      "img[1,2,2]= 0\n",
      "changed img\n",
      " [[[ 66  77  88]\n",
      "  [  0   0   0]\n",
      "  [  5   0   0]\n",
      "  [255 255 255]]\n",
      "\n",
      " [[  0   0   0]\n",
      "  [  0   3   0]\n",
      "  [  0   0   4]\n",
      "  [  0   0   0]]]\n",
      "changed img[1,2,2] 4\n"
     ]
    }
   ],
   "source": [
    "img = np.zeros((2,4,3), dtype=np.uint8)\n",
    "print(\"img[0,3]=\", img[0,3])\n",
    "print(\"img[1,2,2]=\", img[1,2,2])\n",
    "img[0,3]=255\n",
    "img[0,0]=[66,77,88]\n",
    "img[1,1,1]=3\n",
    "img[1,2,2]=4\n",
    "img[0,2,0]=5\n",
    "print(\"changed img\\n\", img)\n",
    "print(\"changed img[1,2,2]\", img[1,2,2])"
   ]
  },
  {
   "cell_type": "code",
   "execution_count": 9,
   "id": "9e277ed8",
   "metadata": {},
   "outputs": [
    {
     "name": "stdout",
     "output_type": "stream",
     "text": [
      "panda[0,0]= [255 255 255]\n",
      "panda[0,0,0]= 255\n",
      "panda[0,0,1]= 255\n",
      "panda[0,0,2]= 255\n",
      "panda[50,0]= [253 255 255]\n",
      "panda[100,0]= [253 252 254]\n",
      "panda[0,0]= [255 255 255]\n",
      "panda[0,0,0]= 255\n",
      "panda[0,0,1]= 255\n",
      "panda[0,0,2]= 255\n",
      "panda[50,0]= [128 128 128]\n",
      "panda[100,0]= [0 0 0]\n"
     ]
    }
   ],
   "source": [
    "panda = cv.imread(\"picture/panda.jpg\")\n",
    "cv.imshow(\"before\", panda)\n",
    "print(\"panda[0,0]=\",panda[0,0])\n",
    "print(\"panda[0,0,0]=\",panda[0,0,0])\n",
    "print(\"panda[0,0,1]=\",panda[0,0,1])\n",
    "print(\"panda[0,0,2]=\",panda[0,0,2])\n",
    "print(\"panda[50,0]=\",panda[50,0])\n",
    "print(\"panda[100,0]=\",panda[100,0])\n",
    "\n",
    "# area 1\n",
    "for i in range (0,50):\n",
    "    for j in range(0,100):\n",
    "        for k in range(0,3):\n",
    "            panda[i,j,k]=255 # white\n",
    "            \n",
    "# area 2\n",
    "for i in range(50,100):\n",
    "    for j in range(0,100):\n",
    "        panda[i,j]=[128,128,128] # gray\n",
    "        \n",
    "#area 3\n",
    "for i in range(100,150):\n",
    "    for j in range(0,100):\n",
    "        panda[i,j]=0 # black\n",
    "        \n",
    "cv.imshow(\"after\",panda)\n",
    "print(\"panda[0,0]=\",panda[0,0])\n",
    "print(\"panda[0,0,0]=\",panda[0,0,0])\n",
    "print(\"panda[0,0,1]=\",panda[0,0,1])\n",
    "print(\"panda[0,0,2]=\",panda[0,0,2])\n",
    "print(\"panda[50,0]=\",panda[50,0])\n",
    "print(\"panda[100,0]=\",panda[100,0])\n",
    "cv.waitKey()\n",
    "cv.destroyAllWindows()"
   ]
  },
  {
   "cell_type": "markdown",
   "id": "fbb50e71",
   "metadata": {},
   "source": [
    "# 2. Accessing pixels using numpy.array"
   ]
  },
  {
   "cell_type": "markdown",
   "id": "e88a1b9f",
   "metadata": {},
   "source": [
    "## 2.1 Gray images"
   ]
  },
  {
   "cell_type": "code",
   "execution_count": 15,
   "id": "6a7d6131",
   "metadata": {},
   "outputs": [
    {
     "name": "stdout",
     "output_type": "stream",
     "text": [
      "img=\n",
      " [[76 76 73 36 44]\n",
      " [65 62 62 72 50]\n",
      " [64 15 42 75 60]\n",
      " [43 13 36 73 32]\n",
      " [37 18 85 69 19]]\n",
      "img.item(3,2) =  36\n",
      "changed img=\n",
      " [[ 76  76  73  36  44]\n",
      " [ 65  62  62  72  50]\n",
      " [ 64  15  42  75  60]\n",
      " [ 43  13 255  73  32]\n",
      " [ 37  18  85  69  19]]\n",
      "changed img.item(3, 2) =  255\n"
     ]
    }
   ],
   "source": [
    "img = np.random.randint(10, 99, size=[5,5], dtype=np.uint8)\n",
    "print(\"img=\\n\",img)\n",
    "print(\"img.item(3,2) = \", img.item(3,2))\n",
    "img.itemset((3, 2), 255)\n",
    "print(\"changed img=\\n\", img)\n",
    "print(\"changed img.item(3, 2) = \", img.item(3,2))"
   ]
  },
  {
   "cell_type": "code",
   "execution_count": 16,
   "id": "677fd6c8",
   "metadata": {},
   "outputs": [],
   "source": [
    "img = np.random.randint(0, 256, size = [256, 256], dtype = np.uint8)\n",
    "cv.imshow(\"demo\", img)\n",
    "cv.waitKey()\n",
    "cv.destroyAllWindows()"
   ]
  },
  {
   "cell_type": "code",
   "execution_count": 17,
   "id": "f8768e1e",
   "metadata": {},
   "outputs": [
    {
     "name": "stdout",
     "output_type": "stream",
     "text": [
      "img.item(3, 2) =  255\n",
      "changed img.item(3, 2) =  255\n"
     ]
    }
   ],
   "source": [
    "# Read\n",
    "panda = cv.imread(\"picture/panda.jpg\", 0)\n",
    "print(\"img.item(3, 2) = \", panda.item(3, 2))\n",
    "panda.itemset((3, 2), 255)\n",
    "print(\"changed img.item(3, 2) = \", panda.item(3, 2))\n",
    "\n",
    "# Modification\n",
    "cv.imshow(\"before\", panda)\n",
    "for i in range(10, 100):\n",
    "    for j in range(80, 100):\n",
    "        panda.itemset((i, j), 255)\n",
    "cv.imshow(\"after\", panda)\n",
    "cv.waitKey()\n",
    "cv.destroyAllWindows()"
   ]
  },
  {
   "cell_type": "markdown",
   "id": "f120072e",
   "metadata": {},
   "source": [
    "## 2.2 Color images"
   ]
  },
  {
   "cell_type": "code",
   "execution_count": 18,
   "id": "16aa6747",
   "metadata": {},
   "outputs": [
    {
     "name": "stdout",
     "output_type": "stream",
     "text": [
      "img=\n",
      " [[[37 33 60]\n",
      "  [34 46 80]\n",
      "  [75 98 34]\n",
      "  [65 44 60]]\n",
      "\n",
      " [[57 40 98]\n",
      "  [13 68 87]\n",
      "  [69 18 38]\n",
      "  [71 59 34]]]\n",
      "img[1, 2, 0] =  69\n",
      "img[0, 2, 1] =  98\n",
      "img[1, 0, 2] =  98\n",
      "changed img=\n",
      " [[[ 37  33  60]\n",
      "  [ 34  46  80]\n",
      "  [ 75 255  34]\n",
      "  [ 65  44  60]]\n",
      "\n",
      " [[ 57  40 255]\n",
      "  [ 13  68  87]\n",
      "  [255  18  38]\n",
      "  [ 71  59  34]]]\n",
      "changed img[1, 2, 0] =  255\n",
      "changed img[0, 2, 1] =  255\n",
      "changed img[1, 0, 2] =  255\n"
     ]
    }
   ],
   "source": [
    "img = np.random.randint(10, 99, size=[2, 4, 3], dtype = np.uint8)\n",
    "print(\"img=\\n\", img)\n",
    "print(\"img[1, 2, 0] = \", img.item(1, 2, 0))\n",
    "print(\"img[0, 2, 1] = \", img.item(0, 2, 1))\n",
    "print(\"img[1, 0, 2] = \", img.item(1, 0, 2))\n",
    "\n",
    "img.itemset((1, 2, 0), 255)\n",
    "img.itemset((0, 2, 1), 255)\n",
    "img.itemset((1, 0, 2), 255)\n",
    "print(\"changed img=\\n\", img)\n",
    "print(\"changed img[1, 2, 0] = \", img.item(1, 2, 0))\n",
    "print(\"changed img[0, 2, 1] = \", img.item(0, 2, 1))\n",
    "print(\"changed img[1, 0, 2] = \", img.item(1, 0, 2))"
   ]
  },
  {
   "cell_type": "code",
   "execution_count": 19,
   "id": "fb284857",
   "metadata": {},
   "outputs": [],
   "source": [
    "img=np.random.randint(0,256,size=[256,256,3],dtype=np.uint8)\n",
    "cv.imshow(\"demo\", img)\n",
    "cv.waitKey()\n",
    "cv.destroyAllWindows()"
   ]
  },
  {
   "cell_type": "code",
   "execution_count": 22,
   "id": "cd4e2629",
   "metadata": {},
   "outputs": [
    {
     "name": "stdout",
     "output_type": "stream",
     "text": [
      "panda.item(0,0,0)= 255\n",
      "panda.item(0,0,1)= 255\n",
      "panda.item(0,0,2)= 255\n",
      "changed panda.item(0,0,0)= 255\n",
      "changed panda.item(0,0,1)= 255\n",
      "changed panda.item(0,0,2)= 255\n"
     ]
    }
   ],
   "source": [
    "panda = cv.imread(\"picture/panda.jpg\")\n",
    "cv.imshow(\"before\",panda)\n",
    "print(\"panda.item(0,0,0)=\",panda.item(0,0,0))\n",
    "print(\"panda.item(0,0,1)=\",panda.item(0,0,1))\n",
    "print(\"panda.item(0,0,2)=\",panda.item(0,0,2))\n",
    "for i in range(0,50):\n",
    "    for j in range(0,100):\n",
    "        for k in range(0,3):\n",
    "            panda.itemset((i,j,k),255)\n",
    "cv.imshow(\"after\",panda)\n",
    "print(\"changed panda.item(0,0,0)=\",panda.item(0,0,0))\n",
    "print(\"changed panda.item(0,0,1)=\",panda.item(0,0,1))\n",
    "print(\"changed panda.item(0,0,2)=\",panda.item(0,0,2))\n",
    "cv.waitKey()\n",
    "cv.destroyAllWindows()"
   ]
  },
  {
   "cell_type": "markdown",
   "id": "9c0c8125",
   "metadata": {},
   "source": [
    "# 3. Region of Interest (ROI)"
   ]
  },
  {
   "cell_type": "code",
   "execution_count": 26,
   "id": "3d63aedb",
   "metadata": {},
   "outputs": [],
   "source": [
    "copy = cv.imread(\"picture/panda.jpg\",cv.IMREAD_UNCHANGED)\n",
    "face = copy[200:700,200:800]\n",
    "cv.imshow(\"orginal\", copy)\n",
    "cv.imshow(\"face\", face)\n",
    "cv.waitKey()\n",
    "cv.destroyAllWindows()"
   ]
  },
  {
   "cell_type": "code",
   "execution_count": 28,
   "id": "8d4979ed",
   "metadata": {},
   "outputs": [],
   "source": [
    "# Mosaic\n",
    "copy = cv.imread(\"picture/panda.jpg\",cv.IMREAD_UNCHANGED)\n",
    "cv.imshow(\"original\",copy)\n",
    "face=np.random.randint(0,256,(600,600,3))\n",
    "copy[100:700,200:800]=face\n",
    "cv.imshow(\"result\",copy)\n",
    "cv.waitKey()\n",
    "cv.destroyAllWindows()"
   ]
  },
  {
   "cell_type": "code",
   "execution_count": 33,
   "id": "aaa2a9d8",
   "metadata": {},
   "outputs": [],
   "source": [
    "# Covering the panda's face with the shark\n",
    "panda=cv.imread(\"picture/panda.jpg\",cv.IMREAD_UNCHANGED)\n",
    "shark=cv.imread(\"picture/shark.jpg\",cv.IMREAD_UNCHANGED)\n",
    "cv.imshow(\"panda\",panda)\n",
    "cv.imshow(\"shark\",shark)\n",
    "face=panda[100:700,200:800]\n",
    "shark[100:700,300:900]=face\n",
    "cv.imshow(\"result\",shark)\n",
    "cv.waitKey()\n",
    "cv.destroyAllWindows()"
   ]
  },
  {
   "cell_type": "markdown",
   "id": "5a703572",
   "metadata": {},
   "source": [
    "# 4. Channel"
   ]
  },
  {
   "cell_type": "markdown",
   "id": "46862385",
   "metadata": {},
   "source": [
    "## 4.1 Split"
   ]
  },
  {
   "cell_type": "code",
   "execution_count": 35,
   "id": "c20b9921",
   "metadata": {},
   "outputs": [],
   "source": [
    "panda=cv.imread(\"picture/panda.jpg\")\n",
    "cv.imshow(\"panda\",panda)\n",
    "b=panda[:,:,0]\n",
    "g=panda[:,:,1]\n",
    "r=panda[:,:,2]\n",
    "cv.imshow(\"b\",b)\n",
    "cv.imshow(\"g\",g)\n",
    "cv.imshow(\"r\",r)\n",
    "panda[:,:,0]=0\n",
    "cv.imshow(\"panda_b0\",panda)\n",
    "panda[:,:,1]=0\n",
    "cv.imshow(\"panda_b0g0\",panda)\n",
    "cv.waitKey()\n",
    "cv.destroyAllWindows()"
   ]
  },
  {
   "cell_type": "code",
   "execution_count": 36,
   "id": "ff842e7d",
   "metadata": {},
   "outputs": [],
   "source": [
    "panda=cv.imread(\"picture/panda.jpg\")\n",
    "b,g,r=cv.split(panda)\n",
    "cv.imshow(\"B\",b)\n",
    "cv.imshow(\"G\",g)\n",
    "cv.imshow(\"R\",r)\n",
    "cv.waitKey()\n",
    "cv.destroyAllWindows()"
   ]
  },
  {
   "cell_type": "markdown",
   "id": "6aaacb21",
   "metadata": {},
   "source": [
    "## 4.2 merge"
   ]
  },
  {
   "cell_type": "code",
   "execution_count": 37,
   "id": "87f513cd",
   "metadata": {},
   "outputs": [],
   "source": [
    "panda=cv.imread(\"picture/panda.jpg\")\n",
    "b,g,r=cv.split(panda)\n",
    "bgr=cv.merge([b,g,r])\n",
    "rgb=cv.merge([r,g,b])\n",
    "cv.imshow(\"panda\",panda)\n",
    "cv.imshow(\"bgr\",bgr)\n",
    "cv.imshow(\"rgb\",rgb)\n",
    "cv.waitKey()\n",
    "cv.destroyAllWindows()"
   ]
  },
  {
   "cell_type": "markdown",
   "id": "e68f0cea",
   "metadata": {},
   "source": [
    "# 5. Properties"
   ]
  },
  {
   "cell_type": "code",
   "execution_count": 40,
   "id": "afc4b5ea",
   "metadata": {},
   "outputs": [
    {
     "name": "stdout",
     "output_type": "stream",
     "text": [
      "Properties of gray: \n",
      "gray.shape= (960, 960)\n",
      "gray.size= 921600\n",
      "gray.dtype= uint8\n",
      "Properties of color: \n",
      "color.shape= (960, 960, 3)\n",
      "color.size= 2764800\n",
      "color.dtype= uint8\n"
     ]
    }
   ],
   "source": [
    "gray=cv.imread(\"picture/panda.jpg\",0)\n",
    "color=cv.imread(\"picture/panda.jpg\")\n",
    "print(\"Properties of gray: \")\n",
    "print(\"gray.shape=\",gray.shape)\n",
    "print(\"gray.size=\",gray.size)\n",
    "print(\"gray.dtype=\",gray.dtype)\n",
    "print(\"Properties of color: \")\n",
    "print(\"color.shape=\",color.shape)\n",
    "print(\"color.size=\",color.size)\n",
    "print(\"color.dtype=\",color.dtype)"
   ]
  },
  {
   "cell_type": "code",
   "execution_count": null,
   "id": "a68ebcaa",
   "metadata": {},
   "outputs": [],
   "source": []
  }
 ],
 "metadata": {
  "kernelspec": {
   "display_name": "pytorch_study",
   "language": "python",
   "name": "pytorch_study"
  },
  "language_info": {
   "codemirror_mode": {
    "name": "ipython",
    "version": 3
   },
   "file_extension": ".py",
   "mimetype": "text/x-python",
   "name": "python",
   "nbconvert_exporter": "python",
   "pygments_lexer": "ipython3",
   "version": "3.10.10"
  }
 },
 "nbformat": 4,
 "nbformat_minor": 5
}
