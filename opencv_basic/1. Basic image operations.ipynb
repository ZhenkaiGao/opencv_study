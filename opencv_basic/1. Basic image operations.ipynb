{
 "cells": [
  {
   "cell_type": "markdown",
   "id": "9b1be263",
   "metadata": {},
   "source": [
    "# 1. Image reading"
   ]
  },
  {
   "cell_type": "code",
   "execution_count": 1,
   "id": "44cc7f7b",
   "metadata": {},
   "outputs": [],
   "source": [
    "import cv2 as cv\n",
    "import matplotlib as plt\n",
    "import numpy as np"
   ]
  },
  {
   "cell_type": "markdown",
   "id": "62e2b652",
   "metadata": {},
   "source": [
    "## 1.1 Reading BGR diagrams"
   ]
  },
  {
   "cell_type": "code",
   "execution_count": 2,
   "id": "0a548ae2",
   "metadata": {},
   "outputs": [
    {
     "name": "stdout",
     "output_type": "stream",
     "text": [
      "<class 'numpy.ndarray'>\n",
      "(960, 960, 3)\n",
      "[[[255 255 255]\n",
      "  [255 255 255]\n",
      "  [255 255 255]\n",
      "  ...\n",
      "  [255 255 255]\n",
      "  [255 255 255]\n",
      "  [255 255 255]]\n",
      "\n",
      " [[255 255 255]\n",
      "  [255 255 255]\n",
      "  [255 255 255]\n",
      "  ...\n",
      "  [255 255 255]\n",
      "  [255 255 255]\n",
      "  [255 255 255]]\n",
      "\n",
      " [[255 255 255]\n",
      "  [255 255 255]\n",
      "  [255 255 255]\n",
      "  ...\n",
      "  [255 255 255]\n",
      "  [255 255 255]\n",
      "  [255 255 255]]\n",
      "\n",
      " ...\n",
      "\n",
      " [[249 254 253]\n",
      "  [249 254 253]\n",
      "  [249 254 253]\n",
      "  ...\n",
      "  [246 255 252]\n",
      "  [248 255 252]\n",
      "  [248 255 252]]\n",
      "\n",
      " [[255 252 254]\n",
      "  [253 252 254]\n",
      "  [253 253 253]\n",
      "  ...\n",
      "  [248 255 252]\n",
      "  [249 254 252]\n",
      "  [249 254 252]]\n",
      "\n",
      " [[255 250 252]\n",
      "  [253 250 252]\n",
      "  [253 251 251]\n",
      "  ...\n",
      "  [248 255 252]\n",
      "  [249 254 252]\n",
      "  [251 254 252]]]\n"
     ]
    }
   ],
   "source": [
    "img = cv.imread('picture/3.jpg') # BGR\n",
    "print(type(img))\n",
    "print(img.shape) # (h, w, c)\n",
    "print(img)"
   ]
  },
  {
   "cell_type": "markdown",
   "id": "bf816508",
   "metadata": {},
   "source": [
    "## 1.2 Read grayscale diagrams"
   ]
  },
  {
   "cell_type": "code",
   "execution_count": 3,
   "id": "cb24f264",
   "metadata": {},
   "outputs": [
    {
     "name": "stdout",
     "output_type": "stream",
     "text": [
      "[[255 255 255 ... 255 255 255]\n",
      " [255 255 255 ... 255 255 255]\n",
      " [255 255 255 ... 255 255 255]\n",
      " ...\n",
      " [253 253 253 ... 253 253 253]\n",
      " [253 253 253 ... 253 253 253]\n",
      " [251 251 251 ... 253 253 253]]\n",
      "img_gray.type:  <class 'numpy.ndarray'>\n",
      "img_gray.size:  921600\n",
      "img_gray.dtype:  uint8\n",
      "img_gray.shape:  (960, 960)\n"
     ]
    }
   ],
   "source": [
    "img_gray = cv.imread('picture/3.jpg', cv.IMREAD_GRAYSCALE)\n",
    "print(img_gray)\n",
    "print('img_gray.type: ', type(img_gray))\n",
    "print('img_gray.size: ', img_gray.size) # 960 * 960 = 921600\n",
    "print('img_gray.dtype: ', img_gray.dtype) # uint8 means unsigned 8-bit integer\n",
    "print('img_gray.shape: ', img_gray.shape)"
   ]
  },
  {
   "cell_type": "markdown",
   "id": "1d17dc23",
   "metadata": {},
   "source": [
    "# 2. Image display"
   ]
  },
  {
   "cell_type": "markdown",
   "id": "17494144",
   "metadata": {},
   "source": [
    "## 2.1 General method"
   ]
  },
  {
   "cell_type": "code",
   "execution_count": 4,
   "id": "4dab53d6",
   "metadata": {},
   "outputs": [],
   "source": [
    "img = cv.imread('picture/3.jpg') # Default is BGR format\n",
    "cv.imshow('fat_shark', img)\n",
    "cv.waitKey(0) # Waiting time (in milliseconds)\n",
    "cv.destroyAllWindows() # Destroy image window"
   ]
  },
  {
   "cell_type": "markdown",
   "id": "f2949cb2",
   "metadata": {},
   "source": [
    "## 2.2 Function method"
   ]
  },
  {
   "cell_type": "code",
   "execution_count": 37,
   "id": "1238b2ff",
   "metadata": {},
   "outputs": [],
   "source": [
    "def show_image(name, img):\n",
    "    cv.imshow(name, img)\n",
    "    cv.waitKey(0)\n",
    "    cv.destroyAllWindows()\n",
    "\n",
    "show_picture('fat_shark', img)"
   ]
  },
  {
   "cell_type": "markdown",
   "id": "a04f740a",
   "metadata": {},
   "source": [
    "# 3. Save image"
   ]
  },
  {
   "cell_type": "code",
   "execution_count": 17,
   "id": "8fb7172a",
   "metadata": {},
   "outputs": [
    {
     "data": {
      "text/plain": [
       "True"
      ]
     },
     "execution_count": 17,
     "metadata": {},
     "output_type": "execute_result"
    }
   ],
   "source": [
    "cv.imwrite('picture/3_gray.jpg', img_gray)"
   ]
  },
  {
   "cell_type": "markdown",
   "id": "f2ab1f32",
   "metadata": {},
   "source": [
    "# 4. HSV colour space"
   ]
  },
  {
   "cell_type": "markdown",
   "id": "a5a175e8",
   "metadata": {},
   "source": [
    "H - 色调 Hue (dominant wavelength)\\\n",
    "S - 饱和度 Saturation (purity/shade of colour)\\\n",
    "V - 强度 Intensity"
   ]
  },
  {
   "cell_type": "code",
   "execution_count": 38,
   "id": "89e65483",
   "metadata": {},
   "outputs": [],
   "source": [
    "hsv = cv.imread('picture/3.jpg', cv.COLOR_BGR2HSV)\n",
    "cv.imshow('hsv', hsv)\n",
    "cv.waitKey(0)\n",
    "cv.destroyAllWindows()"
   ]
  },
  {
   "cell_type": "markdown",
   "id": "114531ce",
   "metadata": {},
   "source": [
    "# 5. Extracting ROI (Region of interest)"
   ]
  },
  {
   "cell_type": "code",
   "execution_count": 24,
   "id": "df1cca30",
   "metadata": {},
   "outputs": [],
   "source": [
    "img = cv.imread('picture/3.jpg')\n",
    "fatshark = img[100:900, 100:900]\n",
    "show_image('fatshark', fatshark)"
   ]
  },
  {
   "cell_type": "markdown",
   "id": "1f215dba",
   "metadata": {},
   "source": [
    "# 6. Separate BGR channels"
   ]
  },
  {
   "cell_type": "code",
   "execution_count": 28,
   "id": "fef37926",
   "metadata": {},
   "outputs": [
    {
     "name": "stdout",
     "output_type": "stream",
     "text": [
      "b.shape:  (960, 960)\n",
      "g.shape:  (960, 960)\n",
      "r.shape:  (960, 960)\n",
      "img.shape:  (960, 960, 3)\n"
     ]
    }
   ],
   "source": [
    "img = cv.imread('picture/3.jpg')\n",
    "b, g, r = cv.split(img)\n",
    "show_image('3_b', b)\n",
    "print('b.shape: ', b.shape)\n",
    "show_image('3_g', g)\n",
    "print('g.shape: ', g.shape)\n",
    "show_image('3_r', r)\n",
    "print('r.shape: ', r.shape)\n",
    "img = cv.merge((b, g, r))\n",
    "print('img.shape: ', img.shape)"
   ]
  },
  {
   "cell_type": "code",
   "execution_count": 32,
   "id": "23dc48e8",
   "metadata": {},
   "outputs": [],
   "source": [
    "img = cv.imread('picture/3.jpg')\n",
    "b, g, r = cv.split(img)\n",
    "img = cv.merge((b, g, r))\n",
    "\n",
    "# Keep only R\n",
    "fatshark_r = img.copy()\n",
    "fatshark_r[:, :, 0] = 0\n",
    "fatshark_r[:, :, 1] = 0\n",
    "show_image('R', fatshark_r)\n",
    "\n",
    "# Keep only G\n",
    "fatshark_g = img.copy()\n",
    "fatshark_g[:, :, 0] = 0\n",
    "fatshark_g[:, :, 2] = 0\n",
    "show_image('G', fatshark_g)\n",
    "\n",
    "# Keep only B\n",
    "fatshark_b = img.copy()\n",
    "fatshark_b[:, :, 1] = 0\n",
    "fatshark_b[:, :, 2] = 0\n",
    "show_image('B', fatshark_b)"
   ]
  },
  {
   "cell_type": "code",
   "execution_count": null,
   "id": "d26ffcf9",
   "metadata": {},
   "outputs": [],
   "source": []
  }
 ],
 "metadata": {
  "kernelspec": {
   "display_name": "pytorch_study",
   "language": "python",
   "name": "pytorch_study"
  },
  "language_info": {
   "codemirror_mode": {
    "name": "ipython",
    "version": 3
   },
   "file_extension": ".py",
   "mimetype": "text/x-python",
   "name": "python",
   "nbconvert_exporter": "python",
   "pygments_lexer": "ipython3",
   "version": "3.10.10"
  }
 },
 "nbformat": 4,
 "nbformat_minor": 5
}
