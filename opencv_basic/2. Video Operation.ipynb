{
 "cells": [
  {
   "cell_type": "markdown",
   "id": "8b5a5dd3",
   "metadata": {},
   "source": [
    "# 1. Video to Picture"
   ]
  },
  {
   "cell_type": "code",
   "execution_count": 15,
   "id": "0a2c8138",
   "metadata": {},
   "outputs": [],
   "source": [
    "import cv2 as cv\n",
    "import matplotlib.pyplot as plt\n",
    "import numpy as np"
   ]
  },
  {
   "cell_type": "code",
   "execution_count": 21,
   "id": "173d0429",
   "metadata": {},
   "outputs": [
    {
     "name": "stdout",
     "output_type": "stream",
     "text": [
      "True\n"
     ]
    }
   ],
   "source": [
    "def show_image(name, img):\n",
    "    cv.imshow(name, img)\n",
    "    cv.waitKey(0)\n",
    "    cv.destroyAllWindows()\n",
    "\n",
    "video = cv.VideoCapture('video/1.mp4')\n",
    "if video.isOpened():\n",
    "    open, frame = video.read() # Read the first frame of the image\n",
    "    print(open)\n",
    "    show_image('shark_weight_loss', frame)\n",
    "else:\n",
    "    open = Flase"
   ]
  },
  {
   "cell_type": "markdown",
   "id": "91efa460",
   "metadata": {},
   "source": [
    "# 2. Picture to Video"
   ]
  },
  {
   "cell_type": "code",
   "execution_count": 23,
   "id": "2703f4fa",
   "metadata": {},
   "outputs": [],
   "source": [
    "video = cv.VideoCapture('video/1.mp4')\n",
    "while open: # If it opens normally, it will keep reading in a loop, which can be replaced by the i value to determine the i frame to read\n",
    "    ret, frame = video.read() \n",
    "    if frame is None: # Stop if the next frame is empty\n",
    "        break\n",
    "    if ret == True:\n",
    "        gray = cv.cvtColor(frame, cv.COLOR_BGR2GRAY)\n",
    "        cv.imshow('result', gray)\n",
    "        if cv.waitKey(60) & 0xFF == 27: # waitKey(60) is the amount of time to wait for the next frame to be executed, 0xFF: ESC\n",
    "            break\n",
    "\n",
    "video.release() # Release resources\n",
    "cv.destroyAllWindows()"
   ]
  },
  {
   "cell_type": "code",
   "execution_count": null,
   "id": "0e2d2365",
   "metadata": {},
   "outputs": [],
   "source": []
  }
 ],
 "metadata": {
  "kernelspec": {
   "display_name": "pytorch_study",
   "language": "python",
   "name": "pytorch_study"
  },
  "language_info": {
   "codemirror_mode": {
    "name": "ipython",
    "version": 3
   },
   "file_extension": ".py",
   "mimetype": "text/x-python",
   "name": "python",
   "nbconvert_exporter": "python",
   "pygments_lexer": "ipython3",
   "version": "3.10.10"
  }
 },
 "nbformat": 4,
 "nbformat_minor": 5
}
